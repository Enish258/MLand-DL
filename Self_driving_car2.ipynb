{
  "nbformat": 4,
  "nbformat_minor": 0,
  "metadata": {
    "colab": {
      "name": "Self_driving_car2.ipynb",
      "provenance": [],
      "collapsed_sections": []
    },
    "kernelspec": {
      "name": "python3",
      "display_name": "Python 3"
    },
    "accelerator": "GPU"
  },
  "cells": [
    {
      "cell_type": "code",
      "metadata": {
        "id": "hIgKdh3BPnPo",
        "colab_type": "code",
        "outputId": "64ba7903-0d2b-4ac5-8018-a505050a4500",
        "colab": {
          "base_uri": "https://localhost:8080/",
          "height": 55
        }
      },
      "source": [
        "from google.colab import drive\n",
        "drive.mount('/gdrive')"
      ],
      "execution_count": 0,
      "outputs": [
        {
          "output_type": "stream",
          "text": [
            "Drive already mounted at /gdrive; to attempt to forcibly remount, call drive.mount(\"/gdrive\", force_remount=True).\n"
          ],
          "name": "stdout"
        }
      ]
    },
    {
      "cell_type": "code",
      "metadata": {
        "id": "SrVOalZTPsyE",
        "colab_type": "code",
        "colab": {}
      },
      "source": [
        "from __future__ import absolute_import, division, print_function, unicode_literals\n",
        "\n",
        "import os\n",
        "import matplotlib.pyplot as plt\n",
        "import numpy as np\n",
        "import cv2\n",
        "\n",
        "import tensorflow as tf\n",
        "from tensorflow.keras.preprocessing.image import ImageDataGenerator"
      ],
      "execution_count": 0,
      "outputs": []
    },
    {
      "cell_type": "code",
      "metadata": {
        "id": "b1Fhgp6OP5sR",
        "colab_type": "code",
        "colab": {}
      },
      "source": [
        "base_dir='/gdrive/My Drive/Machine Learning/data/train/train'"
      ],
      "execution_count": 0,
      "outputs": []
    },
    {
      "cell_type": "code",
      "metadata": {
        "id": "ZkDoIdPDP9m5",
        "colab_type": "code",
        "colab": {}
      },
      "source": [
        "classes = ['right', 'forward', 'left']"
      ],
      "execution_count": 0,
      "outputs": []
    },
    {
      "cell_type": "code",
      "metadata": {
        "id": "Z1avFnLNQXYm",
        "colab_type": "code",
        "colab": {}
      },
      "source": [
        "import shutil\n",
        "import glob"
      ],
      "execution_count": 0,
      "outputs": []
    },
    {
      "cell_type": "code",
      "metadata": {
        "id": "shWWM3R-QL0_",
        "colab_type": "code",
        "outputId": "d777b1cb-5fef-402c-e407-cf05060060b2",
        "colab": {
          "base_uri": "https://localhost:8080/",
          "height": 71
        }
      },
      "source": [
        "for cl in classes:\n",
        "  img_path = os.path.join(base_dir, cl)\n",
        "  images = glob.glob(img_path + '/*.jpg')\n",
        "  print(\"{}: {} Images\".format(cl, len(images)))\n",
        "  train, val = images[:round(len(images)*0.8)], images[round(len(images)*0.8):]\n",
        "\n",
        "  for t in train:\n",
        "    if not os.path.exists(os.path.join(base_dir, 'train', cl)):\n",
        "      os.makedirs(os.path.join(base_dir, 'train', cl))\n",
        "    shutil.move(t, os.path.join(base_dir, 'train', cl))\n",
        "\n",
        "  for v in val:\n",
        "    if not os.path.exists(os.path.join(base_dir, 'val', cl)):\n",
        "      os.makedirs(os.path.join(base_dir, 'val', cl))\n",
        "    shutil.move(v, os.path.join(base_dir, 'val', cl))"
      ],
      "execution_count": 0,
      "outputs": [
        {
          "output_type": "stream",
          "text": [
            "right: 72 Images\n",
            "forward: 149 Images\n",
            "left: 126 Images\n"
          ],
          "name": "stdout"
        }
      ]
    },
    {
      "cell_type": "code",
      "metadata": {
        "id": "9CvVH-yRQQqv",
        "colab_type": "code",
        "colab": {}
      },
      "source": [
        "train_dir = os.path.join(base_dir, 'train')\n",
        "val_dir = os.path.join(base_dir, 'val')"
      ],
      "execution_count": 0,
      "outputs": []
    },
    {
      "cell_type": "code",
      "metadata": {
        "id": "MUG_Lx7KQlMo",
        "colab_type": "code",
        "colab": {}
      },
      "source": [
        "BATCH_SIZE = 30\n",
        "IMG_SHAPE = 150"
      ],
      "execution_count": 0,
      "outputs": []
    },
    {
      "cell_type": "code",
      "metadata": {
        "id": "N8NM0jRKQpns",
        "colab_type": "code",
        "outputId": "1163eb93-618d-4e95-82cc-990e4c1933b9",
        "colab": {
          "base_uri": "https://localhost:8080/",
          "height": 35
        }
      },
      "source": [
        "image_gen_train = ImageDataGenerator(\n",
        "    rescale = 1./255,\n",
        "    rotation_range = 45,\n",
        "    zoom_range =[0.75,1.25],\n",
        "    width_shift_range=0.2,\n",
        "    height_shift_range=0.2,\n",
        "    shear_range=0.2,\n",
        "    horizontal_flip=True,\n",
        "    fill_mode='nearest'\n",
        ")\n",
        "\n",
        "train_data_gen = image_gen_train.flow_from_directory(batch_size = BATCH_SIZE,\n",
        "                                                    directory = train_dir,\n",
        "                                                    shuffle=True,\n",
        "                                                    target_size=(IMG_SHAPE,IMG_SHAPE),\n",
        "                                                    class_mode='binary')"
      ],
      "execution_count": 0,
      "outputs": [
        {
          "output_type": "stream",
          "text": [
            "Found 278 images belonging to 3 classes.\n"
          ],
          "name": "stdout"
        }
      ]
    },
    {
      "cell_type": "code",
      "metadata": {
        "id": "Mpb8jLTPQsog",
        "colab_type": "code",
        "outputId": "8f68a0e1-8a3c-4c25-c740-9900705935ec",
        "colab": {
          "base_uri": "https://localhost:8080/",
          "height": 35
        }
      },
      "source": [
        "image_gen_val = ImageDataGenerator(rescale = 1./255) \n",
        "\n",
        "val_data_gen =image_gen_val.flow_from_directory(batch_size=BATCH_SIZE,\n",
        "                                                 directory=val_dir,\n",
        "                                                 target_size=(IMG_SHAPE, IMG_SHAPE),\n",
        "                                                 class_mode='binary'\n",
        "                                               ) "
      ],
      "execution_count": 0,
      "outputs": [
        {
          "output_type": "stream",
          "text": [
            "Found 69 images belonging to 3 classes.\n"
          ],
          "name": "stdout"
        }
      ]
    },
    {
      "cell_type": "code",
      "metadata": {
        "id": "nFAMSrSzROpR",
        "colab_type": "code",
        "colab": {}
      },
      "source": [
        "model = tf.keras.Sequential([\n",
        "    tf.keras.layers.Conv2D(16,(3,3), activation='relu', input_shape=(IMG_SHAPE,IMG_SHAPE,3), strides = 2, padding ='same'),\n",
        "    tf.keras.layers.MaxPooling2D(2,2),\n",
        "    \n",
        "    tf.keras.layers.Conv2D(32,(3,3), activation = 'relu',strides = 2, padding ='same'),\n",
        "    tf.keras.layers.MaxPooling2D(2,2),\n",
        "    \n",
        "    tf.keras.layers.Conv2D(64,(3,3), activation = 'relu',strides = 2, padding ='same'),\n",
        "    tf.keras.layers.MaxPooling2D(2,2),\n",
        "    \n",
        "    tf.keras.layers.Dropout(0.5),\n",
        "    tf.keras.layers.Flatten(),\n",
        "    \n",
        "    tf.keras.layers.Dense(512, activation='relu'),\n",
        "    tf.keras.layers.Dense(256, activation='relu'),\n",
        "    tf.keras.layers.Dense(128, activation='relu'),\n",
        "    tf.keras.layers.Dense(3, activation='softmax')\n",
        "])"
      ],
      "execution_count": 0,
      "outputs": []
    },
    {
      "cell_type": "code",
      "metadata": {
        "id": "glwNyU0WTrei",
        "colab_type": "code",
        "colab": {}
      },
      "source": [
        "model.compile(optimizer='adam',\n",
        "              loss='sparse_categorical_crossentropy',\n",
        "              metrics=['accuracy'])"
      ],
      "execution_count": 0,
      "outputs": []
    },
    {
      "cell_type": "code",
      "metadata": {
        "id": "gLB__MfzVy9a",
        "colab_type": "code",
        "colab": {}
      },
      "source": [
        "train_1 = os.path.join(train_dir, 'left') \n",
        "train_2= os.path.join(train_dir, 'right')\n",
        "train_3 = os.path.join(train_dir, 'forward')\n",
        "\n",
        "val_1 = os.path.join(val_dir, 'left') \n",
        "val_2 = os.path.join(val_dir, 'right')\n",
        "val_3 = os.path.join(val_dir, 'forward')\n",
        "\n",
        "total_train = len(os.listdir(train_1)) + len(os.listdir(train_2)) + len(os.listdir(train_3)) \n",
        "\n",
        "total_val = len(os.listdir(val_1)) + len(os.listdir(val_2)) + len(os.listdir(val_3)) "
      ],
      "execution_count": 0,
      "outputs": []
    },
    {
      "cell_type": "code",
      "metadata": {
        "id": "LIlpwHwKWafg",
        "colab_type": "code",
        "outputId": "daeb6e70-a27a-4c43-d765-d856ea79fdee",
        "colab": {
          "base_uri": "https://localhost:8080/",
          "height": 757
        }
      },
      "source": [
        "epochs=20\n",
        "history = model.fit_generator(\n",
        "    train_data_gen,\n",
        "    steps_per_epoch=int(np.ceil(total_train / float(BATCH_SIZE))),\n",
        "    epochs=epochs,\n",
        "    validation_data=val_data_gen,\n",
        "    validation_steps=int(np.ceil(total_val / float(BATCH_SIZE)))\n",
        ")\n",
        "\n",
        "#instead of total_train and total_val\n",
        "#we can use train.data_gen.n and val_data_gen.n"
      ],
      "execution_count": 0,
      "outputs": [
        {
          "output_type": "stream",
          "text": [
            "Epoch 1/20\n",
            "10/10 [==============================] - 135s 14s/step - loss: 1.0641 - acc: 0.4029 - val_loss: 1.0946 - val_acc: 0.4348\n",
            "Epoch 2/20\n",
            "10/10 [==============================] - 1s 73ms/step - loss: 1.0723 - acc: 0.4137 - val_loss: 1.0732 - val_acc: 0.4203\n",
            "Epoch 3/20\n",
            "10/10 [==============================] - 3s 295ms/step - loss: 1.0684 - acc: 0.4317 - val_loss: 1.0679 - val_acc: 0.4203\n",
            "Epoch 4/20\n",
            "10/10 [==============================] - 3s 295ms/step - loss: 1.0677 - acc: 0.4604 - val_loss: 1.0770 - val_acc: 0.4348\n",
            "Epoch 5/20\n",
            "10/10 [==============================] - 3s 289ms/step - loss: 1.0520 - acc: 0.4496 - val_loss: 1.0746 - val_acc: 0.4203\n",
            "Epoch 6/20\n",
            "10/10 [==============================] - 3s 289ms/step - loss: 1.0323 - acc: 0.4964 - val_loss: 1.0847 - val_acc: 0.4348\n",
            "Epoch 7/20\n",
            "10/10 [==============================] - 3s 286ms/step - loss: 1.0010 - acc: 0.4784 - val_loss: 1.0541 - val_acc: 0.4348\n",
            "Epoch 8/20\n",
            "10/10 [==============================] - 3s 301ms/step - loss: 1.0315 - acc: 0.5108 - val_loss: 1.0061 - val_acc: 0.5797\n",
            "Epoch 9/20\n",
            "10/10 [==============================] - 3s 303ms/step - loss: 1.0249 - acc: 0.4784 - val_loss: 1.0517 - val_acc: 0.4348\n",
            "Epoch 10/20\n",
            "10/10 [==============================] - 3s 291ms/step - loss: 0.9849 - acc: 0.4856 - val_loss: 1.0109 - val_acc: 0.5072\n",
            "Epoch 11/20\n",
            "10/10 [==============================] - 3s 296ms/step - loss: 0.9518 - acc: 0.5324 - val_loss: 1.0414 - val_acc: 0.4493\n",
            "Epoch 12/20\n",
            "10/10 [==============================] - 3s 299ms/step - loss: 0.9955 - acc: 0.5360 - val_loss: 1.0657 - val_acc: 0.4493\n",
            "Epoch 13/20\n",
            "10/10 [==============================] - 3s 286ms/step - loss: 0.9326 - acc: 0.5647 - val_loss: 1.0302 - val_acc: 0.4928\n",
            "Epoch 14/20\n",
            "10/10 [==============================] - 3s 287ms/step - loss: 0.9540 - acc: 0.5468 - val_loss: 1.0543 - val_acc: 0.4638\n",
            "Epoch 15/20\n",
            "10/10 [==============================] - 3s 305ms/step - loss: 0.9763 - acc: 0.5432 - val_loss: 1.0195 - val_acc: 0.4493\n",
            "Epoch 16/20\n",
            "10/10 [==============================] - 3s 291ms/step - loss: 0.9700 - acc: 0.5432 - val_loss: 0.9886 - val_acc: 0.4928\n",
            "Epoch 17/20\n",
            "10/10 [==============================] - 3s 293ms/step - loss: 0.9117 - acc: 0.5935 - val_loss: 0.9588 - val_acc: 0.4928\n",
            "Epoch 18/20\n",
            "10/10 [==============================] - 3s 301ms/step - loss: 0.9283 - acc: 0.5683 - val_loss: 0.9900 - val_acc: 0.4783\n",
            "Epoch 19/20\n",
            "10/10 [==============================] - 3s 289ms/step - loss: 0.9354 - acc: 0.5288 - val_loss: 0.9560 - val_acc: 0.5652\n",
            "Epoch 20/20\n",
            "10/10 [==============================] - 3s 296ms/step - loss: 0.9243 - acc: 0.5504 - val_loss: 0.9973 - val_acc: 0.4928\n"
          ],
          "name": "stdout"
        }
      ]
    },
    {
      "cell_type": "code",
      "metadata": {
        "id": "KtZqD3kWWiKf",
        "colab_type": "code",
        "outputId": "874dcb76-0524-4093-d0c7-51cb231c1beb",
        "colab": {
          "base_uri": "https://localhost:8080/",
          "height": 499
        }
      },
      "source": [
        "acc = history.history['acc']\n",
        "val_acc = history.history['val_acc']\n",
        "\n",
        "loss = history.history['loss']\n",
        "val_loss = history.history['val_loss']\n",
        "\n",
        "epochs_range = range(epochs)\n",
        "\n",
        "plt.figure(figsize=(8, 8))\n",
        "plt.subplot(1, 2, 1)\n",
        "plt.plot(epochs_range, acc, label='Training Accuracy')\n",
        "plt.plot(epochs_range, val_acc, label='Validation Accuracy')\n",
        "plt.legend(loc='lower right')\n",
        "plt.title('Training and Validation Accuracy')\n",
        "\n",
        "plt.subplot(1, 2, 2)\n",
        "plt.plot(epochs_range, loss, label='Training Loss')\n",
        "plt.plot(epochs_range, val_loss, label='Validation Loss')\n",
        "plt.legend(loc='upper right')\n",
        "plt.title('Training and Validation Loss')\n",
        "plt.show()"
      ],
      "execution_count": 0,
      "outputs": [
        {
          "output_type": "display_data",
          "data": {
            "image/png": "[encoded data removed]",
            "text/plain": [
              "<Figure size 576x576 with 2 Axes>"
            ]
          },
          "metadata": {
            "tags": []
          }
        }
      ]
    },
    {
      "cell_type": "code",
      "metadata": {
        "id": "Ujhq2-WYXuTB",
        "colab_type": "code",
        "colab": {}
      },
      "source": [
        "model.save('model.h10')"
      ],
      "execution_count": 0,
      "outputs": []
    },
    {
      "cell_type": "code",
      "metadata": {
        "id": "6Y1jGODCZmzg",
        "colab_type": "code",
        "outputId": "784b5439-d690-47f7-a9fc-26dc0323477d",
        "colab": {
          "base_uri": "https://localhost:8080/",
          "height": 354
        }
      },
      "source": [
        ""
      ],
      "execution_count": 0,
      "outputs": [
        {
          "output_type": "error",
          "ename": "KeyboardInterrupt",
          "evalue": "ignored",
          "traceback": [
            "\u001b[0;31m---------------------------------------------------------------------------\u001b[0m",
            "\u001b[0;31mKeyboardInterrupt\u001b[0m                         Traceback (most recent call last)",
            "\u001b[0;32m<ipython-input-103-1ea16ebad23d>\u001b[0m in \u001b[0;36m<module>\u001b[0;34m()\u001b[0m\n\u001b[0;32m----> 1\u001b[0;31m \u001b[0;32mfor\u001b[0m \u001b[0mtest_images\u001b[0m\u001b[0;34m,\u001b[0m \u001b[0mtest_labels\u001b[0m \u001b[0;32min\u001b[0m \u001b[0mval_data_gen\u001b[0m\u001b[0;34m:\u001b[0m\u001b[0;34m\u001b[0m\u001b[0;34m\u001b[0m\u001b[0m\n\u001b[0m\u001b[1;32m      2\u001b[0m   \u001b[0mtest_images\u001b[0m \u001b[0;34m=\u001b[0m \u001b[0mnp\u001b[0m\u001b[0;34m.\u001b[0m\u001b[0marray\u001b[0m\u001b[0;34m(\u001b[0m\u001b[0mtest_images\u001b[0m\u001b[0;34m)\u001b[0m\u001b[0;34m\u001b[0m\u001b[0;34m\u001b[0m\u001b[0m\n\u001b[1;32m      3\u001b[0m   \u001b[0mtest_labels\u001b[0m \u001b[0;34m=\u001b[0m \u001b[0mnp\u001b[0m\u001b[0;34m.\u001b[0m\u001b[0marray\u001b[0m\u001b[0;34m(\u001b[0m\u001b[0mtest_labels\u001b[0m\u001b[0;34m)\u001b[0m\u001b[0;34m\u001b[0m\u001b[0;34m\u001b[0m\u001b[0m\n\u001b[1;32m      4\u001b[0m   \u001b[0mpredictions\u001b[0m \u001b[0;34m=\u001b[0m \u001b[0mmodel\u001b[0m\u001b[0;34m.\u001b[0m\u001b[0mpredict\u001b[0m\u001b[0;34m(\u001b[0m\u001b[0mtest_images\u001b[0m\u001b[0;34m)\u001b[0m\u001b[0;34m\u001b[0m\u001b[0;34m\u001b[0m\u001b[0m\n",
            "\u001b[0;32m/usr/local/lib/python3.6/dist-packages/keras_preprocessing/image/iterator.py\u001b[0m in \u001b[0;36m__next__\u001b[0;34m(self, *args, **kwargs)\u001b[0m\n\u001b[1;32m    102\u001b[0m \u001b[0;34m\u001b[0m\u001b[0m\n\u001b[1;32m    103\u001b[0m     \u001b[0;32mdef\u001b[0m \u001b[0m__next__\u001b[0m\u001b[0;34m(\u001b[0m\u001b[0mself\u001b[0m\u001b[0;34m,\u001b[0m \u001b[0;34m*\u001b[0m\u001b[0margs\u001b[0m\u001b[0;34m,\u001b[0m \u001b[0;34m**\u001b[0m\u001b[0mkwargs\u001b[0m\u001b[0;34m)\u001b[0m\u001b[0;34m:\u001b[0m\u001b[0;34m\u001b[0m\u001b[0;34m\u001b[0m\u001b[0m\n\u001b[0;32m--> 104\u001b[0;31m         \u001b[0;32mreturn\u001b[0m \u001b[0mself\u001b[0m\u001b[0;34m.\u001b[0m\u001b[0mnext\u001b[0m\u001b[0;34m(\u001b[0m\u001b[0;34m*\u001b[0m\u001b[0margs\u001b[0m\u001b[0;34m,\u001b[0m \u001b[0;34m**\u001b[0m\u001b[0mkwargs\u001b[0m\u001b[0;34m)\u001b[0m\u001b[0;34m\u001b[0m\u001b[0;34m\u001b[0m\u001b[0m\n\u001b[0m\u001b[1;32m    105\u001b[0m \u001b[0;34m\u001b[0m\u001b[0m\n\u001b[1;32m    106\u001b[0m     \u001b[0;32mdef\u001b[0m \u001b[0mnext\u001b[0m\u001b[0;34m(\u001b[0m\u001b[0mself\u001b[0m\u001b[0;34m)\u001b[0m\u001b[0;34m:\u001b[0m\u001b[0;34m\u001b[0m\u001b[0;34m\u001b[0m\u001b[0m\n",
            "\u001b[0;32m/usr/local/lib/python3.6/dist-packages/keras_preprocessing/image/iterator.py\u001b[0m in \u001b[0;36mnext\u001b[0;34m(self)\u001b[0m\n\u001b[1;32m    114\u001b[0m         \u001b[0;31m# The transformation of images is not under thread lock\u001b[0m\u001b[0;34m\u001b[0m\u001b[0;34m\u001b[0m\u001b[0;34m\u001b[0m\u001b[0m\n\u001b[1;32m    115\u001b[0m         \u001b[0;31m# so it can be done in parallel\u001b[0m\u001b[0;34m\u001b[0m\u001b[0;34m\u001b[0m\u001b[0;34m\u001b[0m\u001b[0m\n\u001b[0;32m--> 116\u001b[0;31m         \u001b[0;32mreturn\u001b[0m \u001b[0mself\u001b[0m\u001b[0;34m.\u001b[0m\u001b[0m_get_batches_of_transformed_samples\u001b[0m\u001b[0;34m(\u001b[0m\u001b[0mindex_array\u001b[0m\u001b[0;34m)\u001b[0m\u001b[0;34m\u001b[0m\u001b[0;34m\u001b[0m\u001b[0m\n\u001b[0m\u001b[1;32m    117\u001b[0m \u001b[0;34m\u001b[0m\u001b[0m\n\u001b[1;32m    118\u001b[0m     \u001b[0;32mdef\u001b[0m \u001b[0m_get_batches_of_transformed_samples\u001b[0m\u001b[0;34m(\u001b[0m\u001b[0mself\u001b[0m\u001b[0;34m,\u001b[0m \u001b[0mindex_array\u001b[0m\u001b[0;34m)\u001b[0m\u001b[0;34m:\u001b[0m\u001b[0;34m\u001b[0m\u001b[0;34m\u001b[0m\u001b[0m\n",
            "\u001b[0;32m/usr/local/lib/python3.6/dist-packages/keras_preprocessing/image/iterator.py\u001b[0m in \u001b[0;36m_get_batches_of_transformed_samples\u001b[0;34m(self, index_array)\u001b[0m\n\u001b[1;32m    228\u001b[0m                            \u001b[0mcolor_mode\u001b[0m\u001b[0;34m=\u001b[0m\u001b[0mself\u001b[0m\u001b[0;34m.\u001b[0m\u001b[0mcolor_mode\u001b[0m\u001b[0;34m,\u001b[0m\u001b[0;34m\u001b[0m\u001b[0;34m\u001b[0m\u001b[0m\n\u001b[1;32m    229\u001b[0m                            \u001b[0mtarget_size\u001b[0m\u001b[0;34m=\u001b[0m\u001b[0mself\u001b[0m\u001b[0;34m.\u001b[0m\u001b[0mtarget_size\u001b[0m\u001b[0;34m,\u001b[0m\u001b[0;34m\u001b[0m\u001b[0;34m\u001b[0m\u001b[0m\n\u001b[0;32m--> 230\u001b[0;31m                            interpolation=self.interpolation)\n\u001b[0m\u001b[1;32m    231\u001b[0m             \u001b[0mx\u001b[0m \u001b[0;34m=\u001b[0m \u001b[0mimg_to_array\u001b[0m\u001b[0;34m(\u001b[0m\u001b[0mimg\u001b[0m\u001b[0;34m,\u001b[0m \u001b[0mdata_format\u001b[0m\u001b[0;34m=\u001b[0m\u001b[0mself\u001b[0m\u001b[0;34m.\u001b[0m\u001b[0mdata_format\u001b[0m\u001b[0;34m)\u001b[0m\u001b[0;34m\u001b[0m\u001b[0;34m\u001b[0m\u001b[0m\n\u001b[1;32m    232\u001b[0m             \u001b[0;31m# Pillow images should be closed after `load_img`,\u001b[0m\u001b[0;34m\u001b[0m\u001b[0;34m\u001b[0m\u001b[0;34m\u001b[0m\u001b[0m\n",
            "\u001b[0;32m/usr/local/lib/python3.6/dist-packages/keras_preprocessing/image/utils.py\u001b[0m in \u001b[0;36mload_img\u001b[0;34m(path, grayscale, color_mode, target_size, interpolation)\u001b[0m\n\u001b[1;32m    130\u001b[0m                         \", \".join(_PIL_INTERPOLATION_METHODS.keys())))\n\u001b[1;32m    131\u001b[0m             \u001b[0mresample\u001b[0m \u001b[0;34m=\u001b[0m \u001b[0m_PIL_INTERPOLATION_METHODS\u001b[0m\u001b[0;34m[\u001b[0m\u001b[0minterpolation\u001b[0m\u001b[0;34m]\u001b[0m\u001b[0;34m\u001b[0m\u001b[0;34m\u001b[0m\u001b[0m\n\u001b[0;32m--> 132\u001b[0;31m             \u001b[0mimg\u001b[0m \u001b[0;34m=\u001b[0m \u001b[0mimg\u001b[0m\u001b[0;34m.\u001b[0m\u001b[0mresize\u001b[0m\u001b[0;34m(\u001b[0m\u001b[0mwidth_height_tuple\u001b[0m\u001b[0;34m,\u001b[0m \u001b[0mresample\u001b[0m\u001b[0;34m)\u001b[0m\u001b[0;34m\u001b[0m\u001b[0;34m\u001b[0m\u001b[0m\n\u001b[0m\u001b[1;32m    133\u001b[0m     \u001b[0;32mreturn\u001b[0m \u001b[0mimg\u001b[0m\u001b[0;34m\u001b[0m\u001b[0;34m\u001b[0m\u001b[0m\n\u001b[1;32m    134\u001b[0m \u001b[0;34m\u001b[0m\u001b[0m\n",
            "\u001b[0;32m/usr/local/lib/python3.6/dist-packages/PIL/Image.py\u001b[0m in \u001b[0;36mresize\u001b[0;34m(self, size, resample, box)\u001b[0m\n\u001b[1;32m   1741\u001b[0m             \u001b[0;32mreturn\u001b[0m \u001b[0mself\u001b[0m\u001b[0;34m.\u001b[0m\u001b[0mconvert\u001b[0m\u001b[0;34m(\u001b[0m\u001b[0;34m'RGBa'\u001b[0m\u001b[0;34m)\u001b[0m\u001b[0;34m.\u001b[0m\u001b[0mresize\u001b[0m\u001b[0;34m(\u001b[0m\u001b[0msize\u001b[0m\u001b[0;34m,\u001b[0m \u001b[0mresample\u001b[0m\u001b[0;34m,\u001b[0m \u001b[0mbox\u001b[0m\u001b[0;34m)\u001b[0m\u001b[0;34m.\u001b[0m\u001b[0mconvert\u001b[0m\u001b[0;34m(\u001b[0m\u001b[0;34m'RGBA'\u001b[0m\u001b[0;34m)\u001b[0m\u001b[0;34m\u001b[0m\u001b[0;34m\u001b[0m\u001b[0m\n\u001b[1;32m   1742\u001b[0m \u001b[0;34m\u001b[0m\u001b[0m\n\u001b[0;32m-> 1743\u001b[0;31m         \u001b[0mself\u001b[0m\u001b[0;34m.\u001b[0m\u001b[0mload\u001b[0m\u001b[0;34m(\u001b[0m\u001b[0;34m)\u001b[0m\u001b[0;34m\u001b[0m\u001b[0;34m\u001b[0m\u001b[0m\n\u001b[0m\u001b[1;32m   1744\u001b[0m \u001b[0;34m\u001b[0m\u001b[0m\n\u001b[1;32m   1745\u001b[0m         \u001b[0;32mreturn\u001b[0m \u001b[0mself\u001b[0m\u001b[0;34m.\u001b[0m\u001b[0m_new\u001b[0m\u001b[0;34m(\u001b[0m\u001b[0mself\u001b[0m\u001b[0;34m.\u001b[0m\u001b[0mim\u001b[0m\u001b[0;34m.\u001b[0m\u001b[0mresize\u001b[0m\u001b[0;34m(\u001b[0m\u001b[0msize\u001b[0m\u001b[0;34m,\u001b[0m \u001b[0mresample\u001b[0m\u001b[0;34m,\u001b[0m \u001b[0mbox\u001b[0m\u001b[0;34m)\u001b[0m\u001b[0;34m)\u001b[0m\u001b[0;34m\u001b[0m\u001b[0;34m\u001b[0m\u001b[0m\n",
            "\u001b[0;32m/usr/local/lib/python3.6/dist-packages/PIL/ImageFile.py\u001b[0m in \u001b[0;36mload\u001b[0;34m(self)\u001b[0m\n\u001b[1;32m    234\u001b[0m \u001b[0;34m\u001b[0m\u001b[0m\n\u001b[1;32m    235\u001b[0m                         \u001b[0mb\u001b[0m \u001b[0;34m=\u001b[0m \u001b[0mb\u001b[0m \u001b[0;34m+\u001b[0m \u001b[0ms\u001b[0m\u001b[0;34m\u001b[0m\u001b[0;34m\u001b[0m\u001b[0m\n\u001b[0;32m--> 236\u001b[0;31m                         \u001b[0mn\u001b[0m\u001b[0;34m,\u001b[0m \u001b[0merr_code\u001b[0m \u001b[0;34m=\u001b[0m \u001b[0mdecoder\u001b[0m\u001b[0;34m.\u001b[0m\u001b[0mdecode\u001b[0m\u001b[0;34m(\u001b[0m\u001b[0mb\u001b[0m\u001b[0;34m)\u001b[0m\u001b[0;34m\u001b[0m\u001b[0;34m\u001b[0m\u001b[0m\n\u001b[0m\u001b[1;32m    237\u001b[0m                         \u001b[0;32mif\u001b[0m \u001b[0mn\u001b[0m \u001b[0;34m<\u001b[0m \u001b[0;36m0\u001b[0m\u001b[0;34m:\u001b[0m\u001b[0;34m\u001b[0m\u001b[0;34m\u001b[0m\u001b[0m\n\u001b[1;32m    238\u001b[0m                             \u001b[0;32mbreak\u001b[0m\u001b[0;34m\u001b[0m\u001b[0;34m\u001b[0m\u001b[0m\n",
            "\u001b[0;31mKeyboardInterrupt\u001b[0m: "
          ]
        }
      ]
    },
    {
      "cell_type": "code",
      "metadata": {
        "id": "jUJg9-MXftzq",
        "colab_type": "code",
        "outputId": "d118f45d-d4d0-4c9e-d607-22c2cb1cf3b8",
        "colab": {
          "base_uri": "https://localhost:8080/",
          "height": 34
        }
      },
      "source": [
        "\n"
      ],
      "execution_count": 0,
      "outputs": [
        {
          "output_type": "execute_result",
          "data": {
            "text/plain": [
              "array([0.9800582 , 0.01141267, 0.00852915], dtype=float32)"
            ]
          },
          "metadata": {
            "tags": []
          },
          "execution_count": 104
        }
      ]
    },
    {
      "cell_type": "code",
      "metadata": {
        "id": "haYXWxJFR0KG",
        "colab_type": "code",
        "outputId": "4e34c20b-5356-4eca-a10b-0e49b56f599f",
        "cellView": "both",
        "colab": {
          "base_uri": "https://localhost:8080/",
          "height": 1000
        }
      },
      "source": [
        ""
      ],
      "execution_count": 0,
      "outputs": [
        {
          "output_type": "execute_result",
          "data": {
            "text/plain": [
              "(array([[[[0.3529412 , 0.3921569 , 0.36078432],\n",
              "          [0.34901962, 0.38823533, 0.35686275],\n",
              "          [0.35686275, 0.39607847, 0.3647059 ],\n",
              "          ...,\n",
              "          [0.        , 0.03137255, 0.        ],\n",
              "          [0.00784314, 0.03137255, 0.01568628],\n",
              "          [0.        , 0.03529412, 0.01568628]],\n",
              " \n",
              "         [[0.3529412 , 0.3921569 , 0.36078432],\n",
              "          [0.34901962, 0.38823533, 0.35686275],\n",
              "          [0.34901962, 0.38823533, 0.35686275],\n",
              "          ...,\n",
              "          [0.        , 0.02745098, 0.        ],\n",
              "          [0.00392157, 0.03137255, 0.00392157],\n",
              "          [0.        , 0.01960784, 0.00392157]],\n",
              " \n",
              "         [[0.35686275, 0.3803922 , 0.3647059 ],\n",
              "          [0.35686275, 0.38431376, 0.35686275],\n",
              "          [0.3647059 , 0.3921569 , 0.3647059 ],\n",
              "          ...,\n",
              "          [0.00392157, 0.03137255, 0.00392157],\n",
              "          [0.00392157, 0.03137255, 0.00392157],\n",
              "          [0.        , 0.01568628, 0.        ]],\n",
              " \n",
              "         ...,\n",
              " \n",
              "         [[0.4901961 , 0.5294118 , 0.49411768],\n",
              "          [0.5019608 , 0.5411765 , 0.5058824 ],\n",
              "          [0.5058824 , 0.53333336, 0.5019608 ],\n",
              "          ...,\n",
              "          [0.03137255, 0.09019608, 0.07058824],\n",
              "          [0.02352941, 0.09019608, 0.06666667],\n",
              "          [0.02352941, 0.06666667, 0.04313726]],\n",
              " \n",
              "         [[0.4901961 , 0.5294118 , 0.49411768],\n",
              "          [0.5019608 , 0.5411765 , 0.5058824 ],\n",
              "          [0.5058824 , 0.53333336, 0.5058824 ],\n",
              "          ...,\n",
              "          [0.01960784, 0.07843138, 0.05882353],\n",
              "          [0.02352941, 0.09019608, 0.06666667],\n",
              "          [0.01960784, 0.07058824, 0.04313726]],\n",
              " \n",
              "         [[0.48627454, 0.5254902 , 0.49411768],\n",
              "          [0.48627454, 0.5254902 , 0.49411768],\n",
              "          [0.49803925, 0.5372549 , 0.5058824 ],\n",
              "          ...,\n",
              "          [0.02745098, 0.08627451, 0.06666667],\n",
              "          [0.02745098, 0.09411766, 0.07058824],\n",
              "          [0.01960784, 0.07058824, 0.04313726]]],\n",
              " \n",
              " \n",
              "        [[[0.34117648, 0.3647059 , 0.35686275],\n",
              "          [0.33333334, 0.35686275, 0.34901962],\n",
              "          [0.32941177, 0.3647059 , 0.3529412 ],\n",
              "          ...,\n",
              "          [0.00392157, 0.02745098, 0.01176471],\n",
              "          [0.00392157, 0.02745098, 0.02745098],\n",
              "          [0.00392157, 0.02745098, 0.01960784]],\n",
              " \n",
              "         [[0.32941177, 0.3529412 , 0.3372549 ],\n",
              "          [0.32941177, 0.3529412 , 0.34509805],\n",
              "          [0.32156864, 0.35686275, 0.34509805],\n",
              "          ...,\n",
              "          [0.        , 0.03137255, 0.01176471],\n",
              "          [0.        , 0.02352941, 0.02352941],\n",
              "          [0.        , 0.02352941, 0.01176471]],\n",
              " \n",
              "         [[0.3019608 , 0.3254902 , 0.30980393],\n",
              "          [0.30588236, 0.32941177, 0.3137255 ],\n",
              "          [0.2901961 , 0.3254902 , 0.30588236],\n",
              "          ...,\n",
              "          [0.        , 0.03137255, 0.01176471],\n",
              "          [0.        , 0.03529412, 0.03137255],\n",
              "          [0.        , 0.02352941, 0.01176471]],\n",
              " \n",
              "         ...,\n",
              " \n",
              "         [[0.48627454, 0.5254902 , 0.4901961 ],\n",
              "          [0.48627454, 0.5254902 , 0.48235297],\n",
              "          [0.48627454, 0.5254902 , 0.48235297],\n",
              "          ...,\n",
              "          [0.5294118 , 0.57254905, 0.54901963],\n",
              "          [0.53333336, 0.5764706 , 0.5529412 ],\n",
              "          [0.5254902 , 0.5647059 , 0.53333336]],\n",
              " \n",
              "         [[0.4784314 , 0.5176471 , 0.47450984],\n",
              "          [0.47450984, 0.5137255 , 0.47058827],\n",
              "          [0.4666667 , 0.50980395, 0.454902  ],\n",
              "          ...,\n",
              "          [0.5294118 , 0.57254905, 0.54901963],\n",
              "          [0.5372549 , 0.5803922 , 0.5568628 ],\n",
              "          [0.5254902 , 0.5647059 , 0.53333336]],\n",
              " \n",
              "         [[0.46274513, 0.5019608 , 0.45882356],\n",
              "          [0.45882356, 0.5019608 , 0.44705886],\n",
              "          [0.454902  , 0.49803925, 0.4431373 ],\n",
              "          ...,\n",
              "          [0.53333336, 0.5764706 , 0.5529412 ],\n",
              "          [0.5294118 , 0.57254905, 0.54901963],\n",
              "          [0.52156866, 0.56078434, 0.5294118 ]]],\n",
              " \n",
              " \n",
              "        [[[0.19607845, 0.20784315, 0.18039216],\n",
              "          [0.18431373, 0.20392159, 0.18039216],\n",
              "          [0.17254902, 0.21568629, 0.18431373],\n",
              "          ...,\n",
              "          [0.        , 0.03529412, 0.        ],\n",
              "          [0.        , 0.03921569, 0.00392157],\n",
              "          [0.        , 0.02745098, 0.        ]],\n",
              " \n",
              "         [[0.18431373, 0.21960786, 0.20000002],\n",
              "          [0.1764706 , 0.21176472, 0.19215688],\n",
              "          [0.16470589, 0.20784315, 0.18431373],\n",
              "          ...,\n",
              "          [0.        , 0.03529412, 0.        ],\n",
              "          [0.00392157, 0.03137255, 0.        ],\n",
              "          [0.        , 0.02352941, 0.        ]],\n",
              " \n",
              "         [[0.16470589, 0.21176472, 0.20392159],\n",
              "          [0.16078432, 0.20784315, 0.20000002],\n",
              "          [0.16862746, 0.21176472, 0.19607845],\n",
              "          ...,\n",
              "          [0.        , 0.03921569, 0.00784314],\n",
              "          [0.        , 0.02745098, 0.        ],\n",
              "          [0.        , 0.02745098, 0.        ]],\n",
              " \n",
              "         ...,\n",
              " \n",
              "         [[0.10588236, 0.15294118, 0.13725491],\n",
              "          [0.12941177, 0.16470589, 0.15294118],\n",
              "          [0.13725491, 0.17254902, 0.16078432],\n",
              "          ...,\n",
              "          [0.5176471 , 0.59607846, 0.5882353 ],\n",
              "          [0.5176471 , 0.6       , 0.5803922 ],\n",
              "          [0.5137255 , 0.5803922 , 0.5568628 ]],\n",
              " \n",
              "         [[0.10980393, 0.15686275, 0.14117648],\n",
              "          [0.13333334, 0.16862746, 0.15686275],\n",
              "          [0.13725491, 0.17254902, 0.16078432],\n",
              "          ...,\n",
              "          [0.50980395, 0.5882353 , 0.5803922 ],\n",
              "          [0.5137255 , 0.5921569 , 0.58431375],\n",
              "          [0.52156866, 0.5882353 , 0.5647059 ]],\n",
              " \n",
              "         [[0.10196079, 0.16078432, 0.14117648],\n",
              "          [0.1254902 , 0.16078432, 0.14901961],\n",
              "          [0.11764707, 0.15294118, 0.14117648],\n",
              "          ...,\n",
              "          [0.5176471 , 0.5882353 , 0.5882353 ],\n",
              "          [0.5176471 , 0.5921569 , 0.58431375],\n",
              "          [0.5254902 , 0.58431375, 0.57254905]]],\n",
              " \n",
              " \n",
              "        ...,\n",
              " \n",
              " \n",
              "        [[[0.3529412 , 0.41960788, 0.35686275],\n",
              "          [0.3647059 , 0.41176474, 0.35686275],\n",
              "          [0.37254903, 0.4156863 , 0.36078432],\n",
              "          ...,\n",
              "          [0.19215688, 0.19215688, 0.09803922],\n",
              "          [0.18039216, 0.19215688, 0.08627451],\n",
              "          [0.16862746, 0.16078432, 0.07843138]],\n",
              " \n",
              "         [[0.34901962, 0.4156863 , 0.3529412 ],\n",
              "          [0.3647059 , 0.41176474, 0.35686275],\n",
              "          [0.36862746, 0.41176474, 0.35686275],\n",
              "          ...,\n",
              "          [0.14509805, 0.14901961, 0.07843138],\n",
              "          [0.14117648, 0.15686275, 0.06666667],\n",
              "          [0.16078432, 0.15686275, 0.07450981]],\n",
              " \n",
              "         [[0.34509805, 0.40000004, 0.34117648],\n",
              "          [0.3529412 , 0.40000004, 0.34509805],\n",
              "          [0.36078432, 0.4039216 , 0.34901962],\n",
              "          ...,\n",
              "          [0.00392157, 0.        , 0.        ],\n",
              "          [0.02352941, 0.03529412, 0.00784314],\n",
              "          [0.03529412, 0.04313726, 0.        ]],\n",
              " \n",
              "         ...,\n",
              " \n",
              "         [[0.43529415, 0.46274513, 0.43529415],\n",
              "          [0.43921572, 0.4666667 , 0.43921572],\n",
              "          [0.43921572, 0.4666667 , 0.43921572],\n",
              "          ...,\n",
              "          [0.39607847, 0.43921572, 0.38431376],\n",
              "          [0.38823533, 0.43529415, 0.39607847],\n",
              "          [0.39607847, 0.427451  , 0.37647063]],\n",
              " \n",
              "         [[0.43137258, 0.45882356, 0.43137258],\n",
              "          [0.43921572, 0.45882356, 0.43529415],\n",
              "          [0.44705886, 0.4666667 , 0.4431373 ],\n",
              "          ...,\n",
              "          [0.39607847, 0.43529415, 0.3921569 ],\n",
              "          [0.38823533, 0.43529415, 0.39607847],\n",
              "          [0.38823533, 0.41960788, 0.37647063]],\n",
              " \n",
              "         [[0.43529415, 0.454902  , 0.43137258],\n",
              "          [0.43921572, 0.45882356, 0.43529415],\n",
              "          [0.44705886, 0.4666667 , 0.4431373 ],\n",
              "          ...,\n",
              "          [0.40000004, 0.43921572, 0.39607847],\n",
              "          [0.39607847, 0.43921572, 0.40784317],\n",
              "          [0.3921569 , 0.42352945, 0.3803922 ]]],\n",
              " \n",
              " \n",
              "        [[[0.4156863 , 0.4784314 , 0.43921572],\n",
              "          [0.41960788, 0.47058827, 0.43529415],\n",
              "          [0.40784317, 0.4666667 , 0.43921572],\n",
              "          ...,\n",
              "          [0.21960786, 0.15686275, 0.09411766],\n",
              "          [0.18823531, 0.1764706 , 0.10980393],\n",
              "          [0.15294118, 0.15686275, 0.08627451]],\n",
              " \n",
              "         [[0.40784317, 0.45882356, 0.42352945],\n",
              "          [0.40784317, 0.45098042, 0.427451  ],\n",
              "          [0.4039216 , 0.454902  , 0.427451  ],\n",
              "          ...,\n",
              "          [0.15294118, 0.07843138, 0.01960784],\n",
              "          [0.11764707, 0.08235294, 0.02352941],\n",
              "          [0.10980393, 0.07450981, 0.01568628]],\n",
              " \n",
              "         [[0.3529412 , 0.4039216 , 0.37647063],\n",
              "          [0.36862746, 0.4039216 , 0.38431376],\n",
              "          [0.3647059 , 0.40784317, 0.38431376],\n",
              "          ...,\n",
              "          [0.16470589, 0.07450981, 0.01176471],\n",
              "          [0.14509805, 0.07450981, 0.01960784],\n",
              "          [0.11764707, 0.03921569, 0.        ]],\n",
              " \n",
              "         ...,\n",
              " \n",
              "         [[0.4156863 , 0.454902  , 0.41176474],\n",
              "          [0.49803925, 0.54509807, 0.5058824 ],\n",
              "          [0.5058824 , 0.5568628 , 0.52156866],\n",
              "          ...,\n",
              "          [0.5137255 , 0.5686275 , 0.5176471 ],\n",
              "          [0.5058824 , 0.57254905, 0.53333336],\n",
              "          [0.5058824 , 0.5529412 , 0.5058824 ]],\n",
              " \n",
              "         [[0.41176474, 0.45098042, 0.40784317],\n",
              "          [0.48235297, 0.5294118 , 0.4901961 ],\n",
              "          [0.5137255 , 0.5647059 , 0.5294118 ],\n",
              "          ...,\n",
              "          [0.52156866, 0.57254905, 0.53333336],\n",
              "          [0.5137255 , 0.5764706 , 0.5372549 ],\n",
              "          [0.5137255 , 0.56078434, 0.5137255 ]],\n",
              " \n",
              "         [[0.3803922 , 0.42352945, 0.36862746],\n",
              "          [0.4666667 , 0.5137255 , 0.47450984],\n",
              "          [0.50980395, 0.5529412 , 0.52156866],\n",
              "          ...,\n",
              "          [0.5254902 , 0.57254905, 0.53333336],\n",
              "          [0.5176471 , 0.5803922 , 0.5411765 ],\n",
              "          [0.52156866, 0.5686275 , 0.52156866]]],\n",
              " \n",
              " \n",
              "        [[[0.        , 0.05882353, 0.01960784],\n",
              "          [0.        , 0.05882353, 0.01960784],\n",
              "          [0.        , 0.05490196, 0.02745098],\n",
              "          ...,\n",
              "          [0.00392157, 0.00392157, 0.00392157],\n",
              "          [0.00392157, 0.00392157, 0.00392157],\n",
              "          [0.00392157, 0.00392157, 0.        ]],\n",
              " \n",
              "         [[0.        , 0.05882353, 0.01960784],\n",
              "          [0.00392157, 0.05490196, 0.01960784],\n",
              "          [0.        , 0.0509804 , 0.01568628],\n",
              "          ...,\n",
              "          [0.00392157, 0.00392157, 0.00392157],\n",
              "          [0.00392157, 0.00392157, 0.00392157],\n",
              "          [0.00392157, 0.00392157, 0.        ]],\n",
              " \n",
              "         [[0.        , 0.04705883, 0.00784314],\n",
              "          [0.00392157, 0.04705883, 0.01568628],\n",
              "          [0.00392157, 0.04705883, 0.01568628],\n",
              "          ...,\n",
              "          [0.        , 0.        , 0.        ],\n",
              "          [0.        , 0.        , 0.        ],\n",
              "          [0.        , 0.        , 0.        ]],\n",
              " \n",
              "         ...,\n",
              " \n",
              "         [[0.05490196, 0.1137255 , 0.09411766],\n",
              "          [0.07058824, 0.13725491, 0.1137255 ],\n",
              "          [0.07058824, 0.13725491, 0.1137255 ],\n",
              "          ...,\n",
              "          [0.5019608 , 0.5764706 , 0.5529412 ],\n",
              "          [0.4901961 , 0.57254905, 0.54509807],\n",
              "          [0.4784314 , 0.5568628 , 0.52156866]],\n",
              " \n",
              "         [[0.04705883, 0.1254902 , 0.09019608],\n",
              "          [0.05882353, 0.13333334, 0.10980393],\n",
              "          [0.05882353, 0.13333334, 0.10980393],\n",
              "          ...,\n",
              "          [0.48627454, 0.56078434, 0.54509807],\n",
              "          [0.4901961 , 0.57254905, 0.5529412 ],\n",
              "          [0.47450984, 0.5529412 , 0.5176471 ]],\n",
              " \n",
              "         [[0.04705883, 0.12941177, 0.09411766],\n",
              "          [0.0509804 , 0.13333334, 0.09803922],\n",
              "          [0.0509804 , 0.13333334, 0.09803922],\n",
              "          ...,\n",
              "          [0.48627454, 0.56078434, 0.54509807],\n",
              "          [0.49411768, 0.5764706 , 0.5568628 ],\n",
              "          [0.47058827, 0.54901963, 0.5137255 ]]]], dtype=float32),\n",
              " array([0., 0., 1., 1., 0., 1., 0., 0., 1., 0., 2., 1., 0., 1., 0., 1., 1.,\n",
              "        2., 1., 0., 1., 1., 0., 0., 1., 0., 0., 0., 2., 1.], dtype=float32))"
            ]
          },
          "metadata": {
            "tags": []
          },
          "execution_count": 106
        }
      ]
    },
    {
      "cell_type": "code",
      "metadata": {
        "id": "U4RCQ1O6XWee",
        "colab_type": "code",
        "colab": {}
      },
      "source": [
        ""
      ],
      "execution_count": 0,
      "outputs": []
    }
  ]
}