{
  "nbformat": 4,
  "nbformat_minor": 0,
  "metadata": {
    "colab": {
      "name": "Self_driving_car.ipynb",
      "provenance": []
    },
    "kernelspec": {
      "name": "python3",
      "display_name": "Python 3"
    },
    "accelerator": "GPU"
  },
  "cells": [
    {
      "cell_type": "code",
      "metadata": {
        "id": "DXSqHrz5HG7P",
        "colab_type": "code",
        "outputId": "e0a58432-1235-4a2a-9c34-1aca74491bf2",
        "colab": {
          "base_uri": "https://localhost:8080/",
          "height": 121
        }
      },
      "source": [
        "from google.colab import drive\n",
        "drive.mount('/gdrive')"
      ],
      "execution_count": 0,
      "outputs": [
        {
          "output_type": "stream",
          "text": [
            "Go to this URL in a browser: https://accounts.google.com/o/oauth2/auth?client_id=947318989803-6bn6qk8qdgf4n4g3pfee6491hc0brc4i.apps.googleusercontent.com&redirect_uri=urn%3Aietf%3Awg%3Aoauth%3A2.0%3Aoob&scope=email%20https%3A%2F%2Fwww.googleapis.com%2Fauth%2Fdocs.test%20https%3A%2F%2Fwww.googleapis.com%2Fauth%2Fdrive%20https%3A%2F%2Fwww.googleapis.com%2Fauth%2Fdrive.photos.readonly%20https%3A%2F%2Fwww.googleapis.com%2Fauth%2Fpeopleapi.readonly&response_type=code\n",
            "\n",
            "Enter your authorization code:\n",
            "··········\n",
            "Mounted at /gdrive\n"
          ],
          "name": "stdout"
        }
      ]
    },
    {
      "cell_type": "code",
      "metadata": {
        "id": "DhjExCz-HdWB",
        "colab_type": "code",
        "colab": {}
      },
      "source": [
        "from __future__ import absolute_import, division, print_function, unicode_literals\n",
        "\n",
        "import os\n",
        "import matplotlib.pyplot as plt\n",
        "import numpy as np\n",
        "import cv2\n",
        "\n",
        "import tensorflow as tf\n",
        "from tensorflow.keras.preprocessing.image import ImageDataGenerator"
      ],
      "execution_count": 0,
      "outputs": []
    },
    {
      "cell_type": "code",
      "metadata": {
        "id": "xGHMV6uRHwkT",
        "colab_type": "code",
        "outputId": "b6f26aa1-e466-4628-fe17-bc7a6d7f9363",
        "colab": {
          "base_uri": "https://localhost:8080/",
          "height": 34
        }
      },
      "source": [
        "! ls \"/gdrive/My Drive/Machine Learning/data/train/train/train\""
      ],
      "execution_count": 0,
      "outputs": [
        {
          "output_type": "stream",
          "text": [
            "forward  left  right\n"
          ],
          "name": "stdout"
        }
      ]
    },
    {
      "cell_type": "code",
      "metadata": {
        "id": "VJJg3HsfIsda",
        "colab_type": "code",
        "colab": {}
      },
      "source": [
        "base_dir='/gdrive/My Drive/Machine Learning/data/train/train/train'\n",
        "direction_path = [os.path.join(base_dir,p) for p in os.listdir(base_dir)]"
      ],
      "execution_count": 0,
      "outputs": []
    },
    {
      "cell_type": "code",
      "metadata": {
        "id": "HXabQaarJPvb",
        "colab_type": "code",
        "outputId": "3d358a87-f12c-439d-d439-9c4cb3ae3337",
        "colab": {
          "base_uri": "https://localhost:8080/",
          "height": 67
        }
      },
      "source": [
        "direction_path"
      ],
      "execution_count": 0,
      "outputs": [
        {
          "output_type": "execute_result",
          "data": {
            "text/plain": [
              "['/gdrive/My Drive/Machine Learning/data/train/train/train/forward',\n",
              " '/gdrive/My Drive/Machine Learning/data/train/train/train/right',\n",
              " '/gdrive/My Drive/Machine Learning/data/train/train/train/left']"
            ]
          },
          "metadata": {
            "tags": []
          },
          "execution_count": 14
        }
      ]
    },
    {
      "cell_type": "code",
      "metadata": {
        "id": "FE_GXyPQJhT7",
        "colab_type": "code",
        "colab": {}
      },
      "source": [
        "X=[]\n",
        "Y=[]\n",
        "\n",
        "for i,path in enumerate(direction_path):\n",
        "  j=0\n",
        "  for img in os.listdir(path):\n",
        "    if j == 508:\n",
        "      break\n",
        "    if i == 3:\n",
        "      img_path = os.path.join(path,img)\n",
        "      IMG = cv2.imread(img_path)\n",
        "      IMG = cv2.resize(IMG,(150,150))\n",
        "      IMG = np.array(IMG).astype('float32')/255.\n",
        "      X.append(IMG)\n",
        "      Y.append(1)\n",
        "     \n",
        "    elif i==4:\n",
        "      img_path = os.path.join(path,img)\n",
        "      IMG = cv2.imread(img_path)\n",
        "      IMG = cv2.resize(IMG,(150,150))\n",
        "      IMG = np.array(IMG).astype('float32')/255.\n",
        "      X.append(IMG)\n",
        "      Y.append(0)\n",
        "    \n",
        "    elif i==5:\n",
        "      img_path = os.path.join(path,img)\n",
        "      IMG = cv2.imread(img_path)\n",
        "      IMG = cv2.resize(IMG,(150,150))\n",
        "      IMG = np.array(IMG).astype('float32')/255.\n",
        "      X.append(IMG)\n",
        "      Y.append(2)\n",
        "    else:\n",
        "      img_path = os.path.join(path,img)\n",
        "      IMG = cv2.imread(img_path)\n",
        "      IMG = cv2.resize(IMG,(150,150))\n",
        "      IMG = np.array(IMG).astype('float32')/255.\n",
        "      X.append(IMG)\n",
        "      Y.append(i)\n",
        "    j+=1\n",
        "     \n",
        "     "
      ],
      "execution_count": 0,
      "outputs": []
    },
    {
      "cell_type": "code",
      "metadata": {
        "id": "Nt57WK6BNHlg",
        "colab_type": "code",
        "outputId": "bfeca7ab-9fa9-4ebb-ac79-ef8409adc93b",
        "colab": {
          "base_uri": "https://localhost:8080/",
          "height": 67
        }
      },
      "source": [
        "X1 = np.array(X)\n",
        "Y1 = np.array(Y)\n",
        "\n",
        "from keras.utils import to_categorical\n",
        "Y1 = to_categorical(Y1, num_classes =3)\n",
        "print(X1.shape)\n",
        "print(Y1.shape)"
      ],
      "execution_count": 0,
      "outputs": [
        {
          "output_type": "stream",
          "text": [
            "(278, 150, 150, 3)\n",
            "(278, 3)\n"
          ],
          "name": "stdout"
        },
        {
          "output_type": "stream",
          "text": [
            "Using TensorFlow backend.\n"
          ],
          "name": "stderr"
        }
      ]
    },
    {
      "cell_type": "code",
      "metadata": {
        "id": "2F0lIkf_OSjQ",
        "colab_type": "code",
        "colab": {}
      },
      "source": [
        "\n",
        "from sklearn.model_selection import train_test_split\n",
        "x_train, x_test, y_train, y_test = train_test_split(X1, Y1, test_size =0.2)\n",
        "\n"
      ],
      "execution_count": 0,
      "outputs": []
    },
    {
      "cell_type": "code",
      "metadata": {
        "id": "0vB7_lXRHgC4",
        "colab_type": "code",
        "colab": {}
      },
      "source": [
        "BATCH_SIZE = 30\n",
        "IMG_SHAPE = 150"
      ],
      "execution_count": 0,
      "outputs": []
    },
    {
      "cell_type": "code",
      "metadata": {
        "id": "kGQlE9iBOsJI",
        "colab_type": "code",
        "outputId": "12ce4071-0e1a-413b-c07b-b42fbeef4104",
        "colab": {
          "base_uri": "https://localhost:8080/",
          "height": 87
        }
      },
      "source": [
        "model = tf.keras.Sequential([\n",
        "    tf.keras.layers.Conv2D(16,(3,3), activation='relu', input_shape=(IMG_SHAPE,IMG_SHAPE,3), strides = 2, padding ='same'),\n",
        "    tf.keras.layers.MaxPooling2D(2,2),\n",
        "    \n",
        "    tf.keras.layers.Conv2D(32,(3,3), activation = 'relu',strides = 2, padding ='same'),\n",
        "    tf.keras.layers.MaxPooling2D(2,2),\n",
        "    \n",
        "    tf.keras.layers.Conv2D(64,(3,3), activation = 'relu',strides = 2, padding ='same'),\n",
        "    tf.keras.layers.MaxPooling2D(2,2),\n",
        "    \n",
        "    tf.keras.layers.Dropout(0.5),\n",
        "    tf.keras.layers.Flatten(),\n",
        "    \n",
        "    tf.keras.layers.Dense(512, activation='relu'),\n",
        "    tf.keras.layers.Dense(256, activation='relu'),\n",
        "    tf.keras.layers.Dense(128, activation='relu'),\n",
        "    tf.keras.layers.Dense(3, activation='softmax')\n",
        "])"
      ],
      "execution_count": 0,
      "outputs": [
        {
          "output_type": "stream",
          "text": [
            "WARNING:tensorflow:From /usr/local/lib/python3.6/dist-packages/tensorflow/python/ops/init_ops.py:1251: calling VarianceScaling.__init__ (from tensorflow.python.ops.init_ops) with dtype is deprecated and will be removed in a future version.\n",
            "Instructions for updating:\n",
            "Call initializer instance with the dtype argument instead of passing it to the constructor\n"
          ],
          "name": "stdout"
        }
      ]
    },
    {
      "cell_type": "code",
      "metadata": {
        "id": "QyVBS72IHZtV",
        "colab_type": "code",
        "colab": {}
      },
      "source": [
        "model.compile(loss ='categorical_crossentropy', optimizer ='adam', metrics=['accuracy'])"
      ],
      "execution_count": 0,
      "outputs": []
    },
    {
      "cell_type": "code",
      "metadata": {
        "id": "1DvNZLa1H6Zg",
        "colab_type": "code",
        "outputId": "60f9c369-736d-4099-ee85-1b5b0216d5f2",
        "colab": {
          "base_uri": "https://localhost:8080/",
          "height": 722
        }
      },
      "source": [
        "model.fit(x_train, y_train, epochs = 20, validation_split=0.1, batch_size = 30)"
      ],
      "execution_count": 0,
      "outputs": [
        {
          "output_type": "stream",
          "text": [
            "Train on 199 samples, validate on 23 samples\n",
            "Epoch 1/20\n",
            "199/199 [==============================] - 4s 19ms/sample - loss: 1.0769 - acc: 0.4221 - val_loss: 1.0099 - val_acc: 0.4783\n",
            "Epoch 2/20\n",
            "199/199 [==============================] - 0s 402us/sample - loss: 1.0648 - acc: 0.4472 - val_loss: 1.0251 - val_acc: 0.4783\n",
            "Epoch 3/20\n",
            "199/199 [==============================] - 0s 362us/sample - loss: 1.0487 - acc: 0.4422 - val_loss: 1.0000 - val_acc: 0.4783\n",
            "Epoch 4/20\n",
            "199/199 [==============================] - 0s 354us/sample - loss: 1.0139 - acc: 0.5176 - val_loss: 0.9717 - val_acc: 0.4783\n",
            "Epoch 5/20\n",
            "199/199 [==============================] - 0s 374us/sample - loss: 0.9792 - acc: 0.5025 - val_loss: 0.9383 - val_acc: 0.6087\n",
            "Epoch 6/20\n",
            "199/199 [==============================] - 0s 353us/sample - loss: 0.8673 - acc: 0.6382 - val_loss: 0.8612 - val_acc: 0.5652\n",
            "Epoch 7/20\n",
            "199/199 [==============================] - 0s 347us/sample - loss: 0.7868 - acc: 0.6683 - val_loss: 0.7847 - val_acc: 0.6522\n",
            "Epoch 8/20\n",
            "199/199 [==============================] - 0s 350us/sample - loss: 0.6445 - acc: 0.7186 - val_loss: 0.7365 - val_acc: 0.6957\n",
            "Epoch 9/20\n",
            "199/199 [==============================] - 0s 352us/sample - loss: 0.5981 - acc: 0.7337 - val_loss: 0.6536 - val_acc: 0.7391\n",
            "Epoch 10/20\n",
            "199/199 [==============================] - 0s 350us/sample - loss: 0.5488 - acc: 0.7739 - val_loss: 0.6934 - val_acc: 0.6957\n",
            "Epoch 11/20\n",
            "199/199 [==============================] - 0s 343us/sample - loss: 0.5086 - acc: 0.7588 - val_loss: 0.5675 - val_acc: 0.6957\n",
            "Epoch 12/20\n",
            "199/199 [==============================] - 0s 343us/sample - loss: 0.4311 - acc: 0.8241 - val_loss: 0.6019 - val_acc: 0.7391\n",
            "Epoch 13/20\n",
            "199/199 [==============================] - 0s 347us/sample - loss: 0.4236 - acc: 0.8291 - val_loss: 0.5881 - val_acc: 0.7826\n",
            "Epoch 14/20\n",
            "199/199 [==============================] - 0s 338us/sample - loss: 0.4258 - acc: 0.8442 - val_loss: 0.5328 - val_acc: 0.7391\n",
            "Epoch 15/20\n",
            "199/199 [==============================] - 0s 344us/sample - loss: 0.3603 - acc: 0.8543 - val_loss: 0.5178 - val_acc: 0.7826\n",
            "Epoch 16/20\n",
            "199/199 [==============================] - 0s 348us/sample - loss: 0.3488 - acc: 0.8744 - val_loss: 0.5530 - val_acc: 0.7391\n",
            "Epoch 17/20\n",
            "199/199 [==============================] - 0s 333us/sample - loss: 0.3237 - acc: 0.8744 - val_loss: 0.4781 - val_acc: 0.8261\n",
            "Epoch 18/20\n",
            "199/199 [==============================] - 0s 332us/sample - loss: 0.3013 - acc: 0.8794 - val_loss: 0.5104 - val_acc: 0.7826\n",
            "Epoch 19/20\n",
            "199/199 [==============================] - 0s 367us/sample - loss: 0.2471 - acc: 0.9146 - val_loss: 0.5466 - val_acc: 0.7826\n",
            "Epoch 20/20\n",
            "199/199 [==============================] - 0s 334us/sample - loss: 0.3023 - acc: 0.8844 - val_loss: 0.4881 - val_acc: 0.7826\n"
          ],
          "name": "stdout"
        },
        {
          "output_type": "execute_result",
          "data": {
            "text/plain": [
              "<tensorflow.python.keras.callbacks.History at 0x7f656c05aa90>"
            ]
          },
          "metadata": {
            "tags": []
          },
          "execution_count": 21
        }
      ]
    },
    {
      "cell_type": "code",
      "metadata": {
        "id": "Tmy92FmhITLL",
        "colab_type": "code",
        "colab": {}
      },
      "source": [
        "model.save('model_new.h10')"
      ],
      "execution_count": 0,
      "outputs": []
    },
    {
      "cell_type": "code",
      "metadata": {
        "id": "b2PQ8v4jGFGb",
        "colab_type": "code",
        "colab": {}
      },
      "source": [
        ""
      ],
      "execution_count": 0,
      "outputs": []
    }
  ]
}